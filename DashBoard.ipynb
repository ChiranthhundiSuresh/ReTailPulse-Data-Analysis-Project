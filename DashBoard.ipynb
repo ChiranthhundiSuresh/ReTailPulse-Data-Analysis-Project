{
 "cells": [
  {
   "cell_type": "markdown",
   "id": "c7d155f7-9e0d-4807-ab86-6d7b7a71c9e9",
   "metadata": {},
   "source": [
    "# Dasboard"
   ]
  },
  {
   "cell_type": "markdown",
   "id": "73a2da85-bdbb-4af6-b24f-b67891658142",
   "metadata": {},
   "source": [
    "### Importing Required Libraries"
   ]
  },
  {
   "cell_type": "code",
   "execution_count": 34,
   "id": "f82ea382-cc31-4ee9-961b-4ca0ebf6dc5a",
   "metadata": {},
   "outputs": [],
   "source": [
    "import pandas as pd\n",
    "import plotly.express as px\n",
    "from dash import Dash, dcc, html\n",
    "from dash.dependencies import Input, Output"
   ]
  },
  {
   "cell_type": "markdown",
   "id": "d7197ff7-b22e-4f5f-bf9c-9e16e2f937a0",
   "metadata": {},
   "source": [
    "### Load and Clean the Dataset"
   ]
  },
  {
   "cell_type": "code",
   "execution_count": 37,
   "id": "96ee7ce4-c491-49bb-9ddf-2546925247bb",
   "metadata": {},
   "outputs": [],
   "source": [
    "# Load your dataset\n",
    "data = pd.read_csv('C:/Users/chira/Downloads/archive (1)/shopping_trends.csv')\n",
    "\n",
    "# Ensure your data is clean\n",
    "data = data.dropna()  # Drop rows with missing values"
   ]
  },
  {
   "cell_type": "markdown",
   "id": "129b5144-88a3-42e7-bf50-53783f4a513b",
   "metadata": {},
   "source": [
    "### Prepare Correlation Heatmap"
   ]
  },
  {
   "cell_type": "code",
   "execution_count": 40,
   "id": "1c2026ae-38f3-4142-b8e7-425387d058ee",
   "metadata": {},
   "outputs": [],
   "source": [
    "# Prepare numeric data for the heatmap\n",
    "numeric_data = data.select_dtypes(include=['float64', 'int64'])\n",
    "\n",
    "# Generate the correlation matrix\n",
    "correlation_matrix = numeric_data.corr()\n",
    "\n",
    "# Plotly heatmap\n",
    "correlation_heatmap = px.imshow(\n",
    "    correlation_matrix,\n",
    "    text_auto=True,\n",
    "    title=\"Correlation Heatmap\",\n",
    "    color_continuous_scale=\"Viridis\"\n",
    ")"
   ]
  },
  {
   "cell_type": "markdown",
   "id": "8d93ef51-e139-4748-8ba9-6c5d4e99b1bb",
   "metadata": {},
   "source": [
    "### Initialize the Dash App"
   ]
  },
  {
   "cell_type": "code",
   "execution_count": 43,
   "id": "bf07abec-1977-4d0c-80e1-aec162c04b2f",
   "metadata": {},
   "outputs": [],
   "source": [
    "# Initialize the Dash app\n",
    "app = Dash(__name__, use_pages=False)"
   ]
  },
  {
   "cell_type": "markdown",
   "id": "5008a3df-4638-400f-8b6b-07d6db230dd6",
   "metadata": {},
   "source": [
    "### Define Layout"
   ]
  },
  {
   "cell_type": "code",
   "execution_count": 46,
   "id": "3da83da6-dfc8-4afb-bc14-b5472c5178d8",
   "metadata": {},
   "outputs": [],
   "source": [
    "# Update the app layout to include the corrected heatmap and seasons dashboard\n",
    "app.layout = html.Div([\n",
    "    html.H1(\"Shopping Trends Dashboard\", style={'textAlign': 'center'}),\n",
    "\n",
    "    # Dropdown for selecting segmentation category\n",
    "    html.Label(\"Select Segmentation Category:\"),\n",
    "    dcc.Dropdown(\n",
    "        id='segmentation-dropdown',\n",
    "        options=[\n",
    "            {'label': 'Age', 'value': 'Age'},\n",
    "            {'label': 'Category', 'value': 'Category'},\n",
    "            {'label': 'Gender', 'value': 'Gender'}\n",
    "        ],\n",
    "        value='Age'\n",
    "    ),\n",
    "    dcc.Graph(id='segmentation-graph'),\n",
    "\n",
    "    html.Br(),\n",
    "\n",
    "    # Heatmap for correlation\n",
    "    html.H2(\"Correlation Heatmap\", style={'textAlign': 'center'}),\n",
    "    dcc.Graph(\n",
    "        id='correlation-heatmap',\n",
    "        figure=correlation_heatmap\n",
    "    ),\n",
    "\n",
    "    html.Br(),\n",
    "\n",
    "    # Seasons analysis section\n",
    "    html.H2(\"Seasonal Analysis\", style={'textAlign': 'center'}),\n",
    "    dcc.Graph(\n",
    "        id='seasonal-graph'\n",
    "    )\n",
    "])"
   ]
  },
  {
   "cell_type": "markdown",
   "id": "0ac00383-57e4-42d1-891c-3211ac7e4ac5",
   "metadata": {},
   "source": [
    "### Adding Callbacks"
   ]
  },
  {
   "cell_type": "code",
   "execution_count": 49,
   "id": "d4410ec6-9f8a-405d-b4cf-d5cccec8f023",
   "metadata": {},
   "outputs": [],
   "source": [
    "@app.callback(\n",
    "    Output('segmentation-graph', 'figure'),\n",
    "    [Input('segmentation-dropdown', 'value')]\n",
    ")\n",
    "def update_segmentation_chart(selected_category):\n",
    "    fig = px.histogram(\n",
    "        data,\n",
    "        x=selected_category,\n",
    "        title=f\"Distribution of {selected_category}\",\n",
    "        color=selected_category\n",
    "    )\n",
    "    return fig"
   ]
  },
  {
   "cell_type": "markdown",
   "id": "458f9826-67a8-4385-b5ca-06426ca5f139",
   "metadata": {},
   "source": [
    "### Seasonal Analysis Callback"
   ]
  },
  {
   "cell_type": "code",
   "execution_count": 52,
   "id": "f697471d-9880-4d8d-a200-4697ab76f89c",
   "metadata": {},
   "outputs": [],
   "source": [
    "@app.callback(\n",
    "    Output('seasonal-graph', 'figure'),\n",
    "    [Input('segmentation-dropdown', 'value')]  # Optional: Can use any input related to seasons\n",
    ")\n",
    "def update_seasonal_chart(selected_category):\n",
    "    fig = px.bar(\n",
    "        data,\n",
    "        x='Season',  \n",
    "        y='Purchase Amount (USD)',  # Replace with appropriate numeric column\n",
    "        title=\"Seasonal Analysis of Purchases\",\n",
    "        color='Season',\n",
    "        barmode='group'\n",
    "    )\n",
    "    return fig"
   ]
  },
  {
   "cell_type": "markdown",
   "id": "849724c0-352c-4177-a860-c5bc20dc7e1b",
   "metadata": {},
   "source": [
    "### Running the App"
   ]
  },
  {
   "cell_type": "code",
   "execution_count": 30,
   "id": "c0d011b3-984f-451b-887f-df3b49933ea7",
   "metadata": {},
   "outputs": [
    {
     "data": {
      "text/html": [
       "\n",
       "        <iframe\n",
       "            width=\"100%\"\n",
       "            height=\"650\"\n",
       "            src=\"http://127.0.0.1:8060/\"\n",
       "            frameborder=\"0\"\n",
       "            allowfullscreen\n",
       "            \n",
       "        ></iframe>\n",
       "        "
      ],
      "text/plain": [
       "<IPython.lib.display.IFrame at 0x277e4e98260>"
      ]
     },
     "metadata": {},
     "output_type": "display_data"
    }
   ],
   "source": [
    "# Run the Dash app\n",
    "app.run_server(mode=\"inline\", port=8060) # Can change the port number if its already in use"
   ]
  },
  {
   "cell_type": "code",
   "execution_count": null,
   "id": "cad395c3-cb06-4d0b-96dc-9d0a810a5910",
   "metadata": {},
   "outputs": [],
   "source": []
  }
 ],
 "metadata": {
  "kernelspec": {
   "display_name": "Python 3 (ipykernel)",
   "language": "python",
   "name": "python3"
  },
  "language_info": {
   "codemirror_mode": {
    "name": "ipython",
    "version": 3
   },
   "file_extension": ".py",
   "mimetype": "text/x-python",
   "name": "python",
   "nbconvert_exporter": "python",
   "pygments_lexer": "ipython3",
   "version": "3.12.4"
  }
 },
 "nbformat": 4,
 "nbformat_minor": 5
}
